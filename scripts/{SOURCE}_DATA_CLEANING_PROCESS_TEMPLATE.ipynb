{
 "cells": [
  {
   "cell_type": "markdown",
   "id": "40c9b63f-cd1c-496e-a298-93dca947d72b",
   "metadata": {},
   "source": [
    "{DESCRIPTION OF FILE}"
   ]
  },
  {
   "cell_type": "markdown",
   "id": "e1388d80-cb1e-44dc-b61c-ee4bdf952af8",
   "metadata": {},
   "source": [
    "# Import Packages"
   ]
  },
  {
   "cell_type": "code",
   "execution_count": 2,
   "id": "271fbe4f-bdb0-43db-bee7-09663dc837f8",
   "metadata": {},
   "outputs": [],
   "source": [
    "import os\n",
    "import yaml\n",
    "import datetime\n",
    "import pandas as pd\n",
    "\n",
    "# Load the configuration file\n",
    "with open(r'C:/Users/Dev/Documents/Real Estate Data/config/config.yaml', 'r') as file:\n",
    "    config = yaml.safe_load(file)"
   ]
  },
  {
   "cell_type": "markdown",
   "id": "89acd7b1-89b2-480f-a0ab-65b4512d2e2a",
   "metadata": {},
   "source": [
    "# Directories"
   ]
  },
  {
   "cell_type": "code",
   "execution_count": null,
   "id": "a42f8e91-45bd-4409-ac13-27d987d59a6c",
   "metadata": {},
   "outputs": [],
   "source": [
    "# Imported Data Directory\n",
    "cities_processed_dir = config['data']['simplemaps']['processed']['cities']\n",
    "counties_processed_dir = config['data']['simplemaps']['processed']['counties']\n",
    "neighborhoods_processed_dir = config['data']['simplemaps']['processed']['neighborhoods']\n",
    "\n",
    "# Cleaned Data Directory\n",
    "master_dir = config['data']['simplemaps']['master']"
   ]
  },
  {
   "cell_type": "markdown",
   "id": "72e5b791-d5fc-43da-a4ae-59bfc8c50c15",
   "metadata": {},
   "source": [
    "# Files"
   ]
  },
  {
   "cell_type": "code",
   "execution_count": null,
   "id": "d947ed5d-442e-4d10-8363-c5d789802480",
   "metadata": {},
   "outputs": [],
   "source": [
    "# Imported Data \n",
    "cities_file = 'us_cities.csv'\n",
    "counties_file = 'us_counties.csv'\n",
    "neighborhoods_file = 'us_neighborhoods.csv'\n",
    "\n",
    "# Cleaned Data\n",
    "processed_file = 'simplemaps_master_data'"
   ]
  },
  {
   "cell_type": "markdown",
   "id": "80d6ae1d-8503-4b7e-ad71-6b6288010359",
   "metadata": {},
   "source": [
    "# Import Files"
   ]
  },
  {
   "cell_type": "code",
   "execution_count": null,
   "id": "7e3165b2-da9f-4e45-bb12-265a36a88ecf",
   "metadata": {},
   "outputs": [],
   "source": [
    "file_path = os.path.join(raw_dir, raw_file)\n",
    "raw_data = pd.read_csv(file_path, low_memory=False)"
   ]
  },
  {
   "cell_type": "markdown",
   "id": "be57d962-e260-4c66-9705-14fc1b750ccc",
   "metadata": {},
   "source": [
    "# Functions"
   ]
  },
  {
   "cell_type": "code",
   "execution_count": null,
   "id": "f217167d-9960-4735-9d42-5c036d1cfbe6",
   "metadata": {},
   "outputs": [],
   "source": []
  },
  {
   "cell_type": "markdown",
   "id": "cbc58658-691e-467c-9535-78464eb57a18",
   "metadata": {},
   "source": [
    "### Load Data Frame"
   ]
  },
  {
   "cell_type": "code",
   "execution_count": null,
   "id": "bf02a10e-38fc-41e8-88ec-110e6308d423",
   "metadata": {},
   "outputs": [],
   "source": [
    "file_path = os.path.join(raw_dir, raw_data)\n",
    "df = pd.read_csv(file_path, low_memory=False)"
   ]
  },
  {
   "cell_type": "code",
   "execution_count": null,
   "id": "52a38d7a-aa64-42a9-a87b-fe2f2dda9fcb",
   "metadata": {},
   "outputs": [],
   "source": [
    "#df"
   ]
  },
  {
   "cell_type": "markdown",
   "id": "7e0e5afc-15c5-4f64-a3c0-52794d09954b",
   "metadata": {},
   "source": [
    "# Clean Data Process"
   ]
  },
  {
   "cell_type": "code",
   "execution_count": null,
   "id": "e3b3082b-ee5a-49a4-bfc9-3b223bd06f62",
   "metadata": {},
   "outputs": [],
   "source": []
  },
  {
   "cell_type": "code",
   "execution_count": null,
   "id": "6bacf4cb-58f8-4a4a-b22f-efca1c6ad5e7",
   "metadata": {},
   "outputs": [],
   "source": []
  },
  {
   "cell_type": "code",
   "execution_count": null,
   "id": "e0680eb7-95ae-4188-af6c-2377a710c7de",
   "metadata": {},
   "outputs": [],
   "source": []
  },
  {
   "cell_type": "code",
   "execution_count": null,
   "id": "d09877da-7db6-4dcd-9f9d-91ace64fc61a",
   "metadata": {},
   "outputs": [],
   "source": [
    "df"
   ]
  },
  {
   "cell_type": "markdown",
   "id": "76e122b1-517b-46a3-b174-f89b306022e4",
   "metadata": {},
   "source": [
    "# Save File"
   ]
  },
  {
   "cell_type": "code",
   "execution_count": null,
   "id": "082bf82d-bdd5-470c-941d-c56f03700c6f",
   "metadata": {},
   "outputs": [],
   "source": [
    "# Define the file path\n",
    "csv_file_path = os.path.join(processed_dir, processed_file)\n",
    "df.to_csv(csv_file_path, index=False)"
   ]
  }
 ],
 "metadata": {
  "kernelspec": {
   "display_name": "Python 3 (ipykernel)",
   "language": "python",
   "name": "python3"
  },
  "language_info": {
   "codemirror_mode": {
    "name": "ipython",
    "version": 3
   },
   "file_extension": ".py",
   "mimetype": "text/x-python",
   "name": "python",
   "nbconvert_exporter": "python",
   "pygments_lexer": "ipython3",
   "version": "3.11.7"
  }
 },
 "nbformat": 4,
 "nbformat_minor": 5
}
