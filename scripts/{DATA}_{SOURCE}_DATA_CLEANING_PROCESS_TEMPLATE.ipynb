{
 "cells": [
  {
   "cell_type": "markdown",
   "id": "40c9b63f-cd1c-496e-a298-93dca947d72b",
   "metadata": {},
   "source": [
    "{DESCRIPTION OF FILE}"
   ]
  },
  {
   "cell_type": "markdown",
   "id": "3204e67d-963b-451c-a4ec-863b382ff85a",
   "metadata": {},
   "source": [
    "# Date of Interest"
   ]
  },
  {
   "cell_type": "code",
   "execution_count": 1,
   "id": "4310cc61-9c76-40c3-b096-7a3dd4dea62c",
   "metadata": {},
   "outputs": [],
   "source": [
    "date = '2024-07-09'"
   ]
  },
  {
   "cell_type": "code",
   "execution_count": 3,
   "id": "271fbe4f-bdb0-43db-bee7-09663dc837f8",
   "metadata": {},
   "outputs": [],
   "source": [
    "import os\n",
    "import yaml\n",
    "import datetime\n",
    "import pandas as pd\n",
    "import numpy as np\n",
    "\n",
    "# Load the configuration file\n",
    "with open(r'C:/Users/Dev/Documents/Real Estate Data/config/config.yaml', 'r') as file:\n",
    "    config = yaml.safe_load(file)"
   ]
  },
  {
   "cell_type": "markdown",
   "id": "89acd7b1-89b2-480f-a0ab-65b4512d2e2a",
   "metadata": {},
   "source": [
    "# Directories"
   ]
  },
  {
   "cell_type": "code",
   "execution_count": 4,
   "id": "6de972be-63db-46fb-a3b7-7bf8e5ddf565",
   "metadata": {},
   "outputs": [],
   "source": [
    "# Imported Data Directory\n",
    "raw_dir = config['data']['SOURCE']['raw']\n",
    "\n",
    "# Cleaned Data Directory\n",
    "processed_dir = config['data']['SOURCE']['processed']"
   ]
  },
  {
   "cell_type": "markdown",
   "id": "72e5b791-d5fc-43da-a4ae-59bfc8c50c15",
   "metadata": {},
   "source": [
    "# Files"
   ]
  },
  {
   "cell_type": "code",
   "execution_count": 5,
   "id": "d947ed5d-442e-4d10-8363-c5d789802480",
   "metadata": {},
   "outputs": [],
   "source": [
    "# Imported Data \n",
    "raw_file = '[FILENAME]'\n",
    "\n",
    "# Cleaned Data\n",
    "processed_file = f'{date}_[FILENAME].csv'"
   ]
  },
  {
   "cell_type": "markdown",
   "id": "52fc6c60-d4b1-4202-94a2-88444138157a",
   "metadata": {},
   "source": [
    "# Import Files"
   ]
  },
  {
   "cell_type": "code",
   "execution_count": null,
   "id": "65fdddb1-ea39-410c-8cf3-45d12f4ad98e",
   "metadata": {},
   "outputs": [],
   "source": [
    "file_path = os.path.join(raw_dir, raw_file)\n",
    "raw_data = pd.read_csv(file_path, low_memory=False)"
   ]
  },
  {
   "cell_type": "markdown",
   "id": "be57d962-e260-4c66-9705-14fc1b750ccc",
   "metadata": {},
   "source": [
    "# Functions"
   ]
  },
  {
   "cell_type": "code",
   "execution_count": null,
   "id": "2c73aa30-2a0f-465b-9ca3-bb5bc6980813",
   "metadata": {},
   "outputs": [],
   "source": []
  },
  {
   "cell_type": "markdown",
   "id": "cbc58658-691e-467c-9535-78464eb57a18",
   "metadata": {},
   "source": [
    "### Load Data Frame"
   ]
  },
  {
   "cell_type": "code",
   "execution_count": 7,
   "id": "bf02a10e-38fc-41e8-88ec-110e6308d423",
   "metadata": {},
   "outputs": [],
   "source": [
    "file_path = os.path.join(raw_dir, raw_data)\n",
    "df = pd.read_csv(file_path, low_memory=False)"
   ]
  },
  {
   "cell_type": "code",
   "execution_count": 8,
   "id": "52a38d7a-aa64-42a9-a87b-fe2f2dda9fcb",
   "metadata": {},
   "outputs": [],
   "source": [
    "#df"
   ]
  },
  {
   "cell_type": "markdown",
   "id": "8f4a555a-c443-4c6b-89e7-58fe77e041bc",
   "metadata": {},
   "source": [
    "# Clean Data Process"
   ]
  },
  {
   "cell_type": "code",
   "execution_count": null,
   "id": "5da65cec-be77-40b6-9c67-3408d1f8b12a",
   "metadata": {},
   "outputs": [],
   "source": []
  },
  {
   "cell_type": "code",
   "execution_count": null,
   "id": "bb0d83f2-4e4d-4041-8da9-83860f83bf84",
   "metadata": {},
   "outputs": [],
   "source": []
  },
  {
   "cell_type": "code",
   "execution_count": null,
   "id": "c5e06ae1-4bec-4c92-8ca9-2ae8feecb872",
   "metadata": {},
   "outputs": [],
   "source": []
  },
  {
   "cell_type": "code",
   "execution_count": null,
   "id": "033fbc8a-614f-4ffd-a0b7-c2403620632c",
   "metadata": {},
   "outputs": [],
   "source": [
    "df"
   ]
  },
  {
   "cell_type": "markdown",
   "id": "76e122b1-517b-46a3-b174-f89b306022e4",
   "metadata": {},
   "source": [
    "# Save File"
   ]
  },
  {
   "cell_type": "code",
   "execution_count": 15,
   "id": "082bf82d-bdd5-470c-941d-c56f03700c6f",
   "metadata": {},
   "outputs": [],
   "source": [
    "# Define the file path\n",
    "csv_file_path = os.path.join(processed_dir, processed_file)\n",
    "df.to_csv(csv_file_path, index=False)"
   ]
  }
 ],
 "metadata": {
  "kernelspec": {
   "display_name": "Python 3 (ipykernel)",
   "language": "python",
   "name": "python3"
  },
  "language_info": {
   "codemirror_mode": {
    "name": "ipython",
    "version": 3
   },
   "file_extension": ".py",
   "mimetype": "text/x-python",
   "name": "python",
   "nbconvert_exporter": "python",
   "pygments_lexer": "ipython3",
   "version": "3.11.7"
  }
 },
 "nbformat": 4,
 "nbformat_minor": 5
}
