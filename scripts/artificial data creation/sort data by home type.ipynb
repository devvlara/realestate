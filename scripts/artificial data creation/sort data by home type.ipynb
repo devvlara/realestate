{
 "cells": [
  {
   "cell_type": "markdown",
   "id": "40c9b63f-cd1c-496e-a298-93dca947d72b",
   "metadata": {},
   "source": [
    "Merge Pulled Zillow Listing Data to serve as a sample set for the the data creation project"
   ]
  },
  {
   "cell_type": "markdown",
   "id": "3204e67d-963b-451c-a4ec-863b382ff85a",
   "metadata": {},
   "source": [
    "# Date of Interest"
   ]
  },
  {
   "cell_type": "code",
   "execution_count": 124,
   "id": "271fbe4f-bdb0-43db-bee7-09663dc837f8",
   "metadata": {},
   "outputs": [],
   "source": [
    "import os\n",
    "import yaml\n",
    "import datetime\n",
    "import pandas as pd\n",
    "import numpy as np\n",
    "\n",
    "# Load the configuration file\n",
    "with open(r'C:/Users/Dev/Documents/Real Estate Data/config/config.yaml', 'r') as file:\n",
    "    config = yaml.safe_load(file)"
   ]
  },
  {
   "cell_type": "markdown",
   "id": "89acd7b1-89b2-480f-a0ab-65b4512d2e2a",
   "metadata": {},
   "source": [
    "# Directories"
   ]
  },
  {
   "cell_type": "code",
   "execution_count": 125,
   "id": "6de972be-63db-46fb-a3b7-7bf8e5ddf565",
   "metadata": {},
   "outputs": [],
   "source": [
    "# Imported Data Directory\n",
    "imp_dir = 'C:/Users/Dev/Documents/Real Estate Data/data/sample/actual listings'\n",
    "\n",
    "# Cleaned Data Directory\n",
    "processed_dir = 'C:/Users/Dev/Documents/Real Estate Data/data/sample/actual listings'"
   ]
  },
  {
   "cell_type": "markdown",
   "id": "72e5b791-d5fc-43da-a4ae-59bfc8c50c15",
   "metadata": {},
   "source": [
    "# Files"
   ]
  },
  {
   "cell_type": "code",
   "execution_count": 126,
   "id": "d947ed5d-442e-4d10-8363-c5d789802480",
   "metadata": {},
   "outputs": [],
   "source": [
    "# Imported Data \n",
    "pull = 'all_real_listings.csv'\n",
    "\n",
    "\n",
    "# Cleaned Data\n",
    "single = 'singleFamily_real_listings.csv'\n",
    "multi = 'multiFamily_real_listings.csv'\n",
    "condo = 'condo_real_listings.csv'\n",
    "town = 'townhouse_real_listings.csv'"
   ]
  },
  {
   "cell_type": "markdown",
   "id": "21ebae95-bb5a-4a3b-b410-d562caef48fc",
   "metadata": {},
   "source": [
    "# Load Data Frame"
   ]
  },
  {
   "cell_type": "code",
   "execution_count": 127,
   "id": "96744024-616e-4cd6-9c3d-37e1d795a0a4",
   "metadata": {},
   "outputs": [],
   "source": [
    "file_path = os.path.join(imp_dir, pull)\n",
    "pull = pd.read_csv(file_path, low_memory=False)"
   ]
  },
  {
   "cell_type": "markdown",
   "id": "52fc6c60-d4b1-4202-94a2-88444138157a",
   "metadata": {},
   "source": [
    "# Single Family"
   ]
  },
  {
   "cell_type": "code",
   "execution_count": 128,
   "id": "10ac2a28-8d4a-4b64-a816-cf6dc31d59ca",
   "metadata": {},
   "outputs": [],
   "source": [
    "df = pd.DataFrame()\n",
    "\n",
    "df = pull[pull['homeType'] == 'SINGLE_FAMILY']\n",
    "\n",
    "df = df.groupby('zipcode').agg(\n",
    "    averagePrice =('price', 'mean'),\n",
    "    averageSqft =('sqft', 'mean'),\n",
    "    averageBeds=('beds', 'mean'),\n",
    "    averageBaths=('baths', 'mean')\n",
    ").reset_index()\n",
    "\n",
    "# Define the file path\n",
    "csv_file_path = os.path.join(processed_dir, single)\n",
    "df.to_csv(csv_file_path, index=False)"
   ]
  },
  {
   "cell_type": "markdown",
   "id": "221d6477-ba3f-4076-a298-b33c8e6e1c73",
   "metadata": {},
   "source": [
    "# Multi Family"
   ]
  },
  {
   "cell_type": "code",
   "execution_count": 129,
   "id": "e00d61af-f798-4c93-ac3b-e570ae35c488",
   "metadata": {},
   "outputs": [],
   "source": [
    "df = pd.DataFrame()\n",
    "\n",
    "df = pull[pull['homeType'] == 'MULTI_FAMILY']\n",
    "\n",
    "df = df.groupby('zipcode').agg(\n",
    "    averagePrice =('price', 'mean'),\n",
    "    averageSqft =('sqft', 'mean'),\n",
    "    averageBeds=('beds', 'mean'),\n",
    "    averageBaths=('baths', 'mean')\n",
    ").reset_index()\n",
    "\n",
    "# Define the file path\n",
    "csv_file_path = os.path.join(processed_dir, multi)\n",
    "df.to_csv(csv_file_path, index=False)"
   ]
  },
  {
   "cell_type": "markdown",
   "id": "0724a7c7-e1df-4a43-a2e2-c9e5ba1b9b15",
   "metadata": {},
   "source": [
    "# Condo"
   ]
  },
  {
   "cell_type": "code",
   "execution_count": 130,
   "id": "7c5d0d23-d9db-4a69-95f6-45bf0eab99d1",
   "metadata": {},
   "outputs": [],
   "source": [
    "df = pd.DataFrame()\n",
    "\n",
    "df = pull[pull['homeType'] == 'CONDO']\n",
    "\n",
    "df = df.groupby('zipcode').agg(\n",
    "    averagePrice =('price', 'mean'),\n",
    "    averageSqft =('sqft', 'mean'),\n",
    "    averageBeds=('beds', 'mean'),\n",
    "    averageBaths=('baths', 'mean')\n",
    ").reset_index()\n",
    "\n",
    "# Define the file path\n",
    "csv_file_path = os.path.join(processed_dir, condo)\n",
    "df.to_csv(csv_file_path, index=False)"
   ]
  },
  {
   "cell_type": "markdown",
   "id": "bafd488d-e796-43bf-b491-3888a65ea9dd",
   "metadata": {},
   "source": [
    "# TownHome"
   ]
  },
  {
   "cell_type": "code",
   "execution_count": 131,
   "id": "53cb24cc-4c18-4233-8031-60fddf6bd728",
   "metadata": {},
   "outputs": [],
   "source": [
    "df = pd.DataFrame()\n",
    "\n",
    "df = pull[pull['homeType'] == 'TOWNHOUSE']\n",
    "\n",
    "df = df.groupby('zipcode').agg(\n",
    "    averagePrice =('price', 'mean'),\n",
    "    averageSqft =('sqft', 'mean'),\n",
    "    averageBeds=('beds', 'mean'),\n",
    "    averageBaths=('baths', 'mean')\n",
    ").reset_index()\n",
    "\n",
    "# Define the file path\n",
    "csv_file_path = os.path.join(processed_dir, town)\n",
    "df.to_csv(csv_file_path, index=False)"
   ]
  }
 ],
 "metadata": {
  "kernelspec": {
   "display_name": "Python 3 (ipykernel)",
   "language": "python",
   "name": "python3"
  },
  "language_info": {
   "codemirror_mode": {
    "name": "ipython",
    "version": 3
   },
   "file_extension": ".py",
   "mimetype": "text/x-python",
   "name": "python",
   "nbconvert_exporter": "python",
   "pygments_lexer": "ipython3",
   "version": "3.11.7"
  }
 },
 "nbformat": 4,
 "nbformat_minor": 5
}
