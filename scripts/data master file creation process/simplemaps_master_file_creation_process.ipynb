{
 "cells": [
  {
   "cell_type": "markdown",
   "id": "40c9b63f-cd1c-496e-a298-93dca947d72b",
   "metadata": {},
   "source": [
    "{DESCRIPTION OF FILE}"
   ]
  },
  {
   "cell_type": "markdown",
   "id": "e1388d80-cb1e-44dc-b61c-ee4bdf952af8",
   "metadata": {},
   "source": [
    "# Import Packages"
   ]
  },
  {
   "cell_type": "code",
   "execution_count": 76,
   "id": "271fbe4f-bdb0-43db-bee7-09663dc837f8",
   "metadata": {},
   "outputs": [],
   "source": [
    "import os\n",
    "import yaml\n",
    "import datetime\n",
    "import pandas as pd\n",
    "\n",
    "# Load the configuration file\n",
    "with open(r'C:/Users/Dev/Documents/Real Estate Data/config/config.yaml', 'r') as file:\n",
    "    config = yaml.safe_load(file)"
   ]
  },
  {
   "cell_type": "markdown",
   "id": "89acd7b1-89b2-480f-a0ab-65b4512d2e2a",
   "metadata": {},
   "source": [
    "# Directories"
   ]
  },
  {
   "cell_type": "code",
   "execution_count": 77,
   "id": "a42f8e91-45bd-4409-ac13-27d987d59a6c",
   "metadata": {},
   "outputs": [],
   "source": [
    "# Imported Data Directory\n",
    "cities_processed_dir = config['data']['simplemaps_data']['processed']['cities']\n",
    "counties_processed_dir = config['data']['simplemaps_data']['processed']['counties']\n",
    "neighborhoods_processed_dir = config['data']['simplemaps_data']['processed']['neighborhoods']\n",
    "raw_zillow_area_dir = config['data']['zillow_data']['raw']['area']['Other']\n",
    "\n",
    "# Cleaned Data Directory\n",
    "master_dir = config['data']['simplemaps_data']['master']"
   ]
  },
  {
   "cell_type": "markdown",
   "id": "72e5b791-d5fc-43da-a4ae-59bfc8c50c15",
   "metadata": {},
   "source": [
    "# Files"
   ]
  },
  {
   "cell_type": "code",
   "execution_count": 78,
   "id": "d947ed5d-442e-4d10-8363-c5d789802480",
   "metadata": {},
   "outputs": [],
   "source": [
    "# Imported Data \n",
    "cities_file = 'us_cities.csv'\n",
    "counties_file = 'us_counties.csv'\n",
    "neighborhoods_file = 'us_neighborhoods.csv'\n",
    "zillow_area = 'zillow state, metro, city, zipcode data.csv'\n",
    "\n",
    "# Cleaned Data\n",
    "master_file = 'simplemaps_master_data.csv'"
   ]
  },
  {
   "cell_type": "markdown",
   "id": "80d6ae1d-8503-4b7e-ad71-6b6288010359",
   "metadata": {},
   "source": [
    "# Import Files"
   ]
  },
  {
   "cell_type": "code",
   "execution_count": 79,
   "id": "7e3165b2-da9f-4e45-bb12-265a36a88ecf",
   "metadata": {},
   "outputs": [],
   "source": [
    "file_path = os.path.join(cities_processed_dir, cities_file)\n",
    "cities = pd.read_csv(file_path, low_memory=False)\n",
    "\n",
    "file_path = os.path.join(counties_processed_dir, counties_file)\n",
    "counties = pd.read_csv(file_path, low_memory=False)\n",
    "\n",
    "file_path = os.path.join(neighborhoods_processed_dir, neighborhoods_file)\n",
    "neighborhoods = pd.read_csv(file_path, low_memory=False)\n",
    "\n",
    "file_path = os.path.join(raw_zillow_area_dir, zillow_area)\n",
    "zillow = pd.read_csv(file_path, low_memory=False)"
   ]
  },
  {
   "cell_type": "markdown",
   "id": "cbc58658-691e-467c-9535-78464eb57a18",
   "metadata": {},
   "source": [
    "### Load Data Frame"
   ]
  },
  {
   "cell_type": "code",
   "execution_count": 80,
   "id": "52a38d7a-aa64-42a9-a87b-fe2f2dda9fcb",
   "metadata": {},
   "outputs": [
    {
     "name": "stdout",
     "output_type": "stream",
     "text": [
      "Index(['city', 'stateID', 'state', 'county', 'zipcode', 'cityID'], dtype='object')\n",
      "Index(['county', 'state'], dtype='object')\n",
      "Index(['neighborhood', 'city', 'cityID', 'state', 'stateID', 'zipcode',\n",
      "       'county', 'neighborhoodID'],\n",
      "      dtype='object')\n"
     ]
    }
   ],
   "source": [
    "print(cities.columns)\n",
    "print(counties.columns)\n",
    "print(neighborhoods.columns)"
   ]
  },
  {
   "cell_type": "markdown",
   "id": "8399de27-9de6-4b22-820c-427f1fc73b04",
   "metadata": {},
   "source": [
    "## Metro"
   ]
  },
  {
   "cell_type": "code",
   "execution_count": 81,
   "id": "e0680eb7-95ae-4188-af6c-2377a710c7de",
   "metadata": {},
   "outputs": [],
   "source": [
    "# Modify the 'Metro' column\n",
    "zillow['Metro'] = zillow['Metro'].str.split(',').str[0]\n",
    "\n",
    "# Modify the 'Metro' column\n",
    "zillow['Metro'] = zillow['Metro'].str.split(',').str[0]\n",
    "\n",
    "metro_mapping = zillow.set_index('City')['Metro'].to_dict()\n",
    "\n",
    "# Add the 'metro' column to the 'cities' DataFrame\n",
    "cities['metro'] = cities['city'].map(metro_mapping)"
   ]
  },
  {
   "cell_type": "markdown",
   "id": "7e0e5afc-15c5-4f64-a3c0-52794d09954b",
   "metadata": {},
   "source": [
    "# Clean Data Process"
   ]
  },
  {
   "cell_type": "code",
   "execution_count": 82,
   "id": "e3b3082b-ee5a-49a4-bfc9-3b223bd06f62",
   "metadata": {},
   "outputs": [],
   "source": [
    "master = pd.concat([cities, counties, neighborhoods], axis=0, ignore_index=True).drop_duplicates()"
   ]
  },
  {
   "cell_type": "code",
   "execution_count": null,
   "id": "d09877da-7db6-4dcd-9f9d-91ace64fc61a",
   "metadata": {},
   "outputs": [],
   "source": []
  },
  {
   "cell_type": "code",
   "execution_count": 83,
   "id": "3def0192-ca2f-4c22-8a73-900efc98f98d",
   "metadata": {},
   "outputs": [
    {
     "data": {
      "text/html": [
       "<div>\n",
       "<style scoped>\n",
       "    .dataframe tbody tr th:only-of-type {\n",
       "        vertical-align: middle;\n",
       "    }\n",
       "\n",
       "    .dataframe tbody tr th {\n",
       "        vertical-align: top;\n",
       "    }\n",
       "\n",
       "    .dataframe thead th {\n",
       "        text-align: right;\n",
       "    }\n",
       "</style>\n",
       "<table border=\"1\" class=\"dataframe\">\n",
       "  <thead>\n",
       "    <tr style=\"text-align: right;\">\n",
       "      <th></th>\n",
       "      <th>stateID</th>\n",
       "      <th>state</th>\n",
       "      <th>metro</th>\n",
       "      <th>county</th>\n",
       "      <th>city</th>\n",
       "      <th>zipcode</th>\n",
       "      <th>neighborhood</th>\n",
       "    </tr>\n",
       "  </thead>\n",
       "  <tbody>\n",
       "    <tr>\n",
       "      <th>0</th>\n",
       "      <td>NY</td>\n",
       "      <td>New York</td>\n",
       "      <td>New York-Newark-Jersey City</td>\n",
       "      <td>Queens</td>\n",
       "      <td>New York</td>\n",
       "      <td>11229.0</td>\n",
       "      <td>NaN</td>\n",
       "    </tr>\n",
       "    <tr>\n",
       "      <th>1</th>\n",
       "      <td>NY</td>\n",
       "      <td>New York</td>\n",
       "      <td>New York-Newark-Jersey City</td>\n",
       "      <td>Queens</td>\n",
       "      <td>New York</td>\n",
       "      <td>11228.0</td>\n",
       "      <td>NaN</td>\n",
       "    </tr>\n",
       "    <tr>\n",
       "      <th>2</th>\n",
       "      <td>NY</td>\n",
       "      <td>New York</td>\n",
       "      <td>New York-Newark-Jersey City</td>\n",
       "      <td>Queens</td>\n",
       "      <td>New York</td>\n",
       "      <td>11226.0</td>\n",
       "      <td>NaN</td>\n",
       "    </tr>\n",
       "    <tr>\n",
       "      <th>3</th>\n",
       "      <td>NY</td>\n",
       "      <td>New York</td>\n",
       "      <td>New York-Newark-Jersey City</td>\n",
       "      <td>Queens</td>\n",
       "      <td>New York</td>\n",
       "      <td>11225.0</td>\n",
       "      <td>NaN</td>\n",
       "    </tr>\n",
       "    <tr>\n",
       "      <th>4</th>\n",
       "      <td>NY</td>\n",
       "      <td>New York</td>\n",
       "      <td>New York-Newark-Jersey City</td>\n",
       "      <td>Queens</td>\n",
       "      <td>New York</td>\n",
       "      <td>11224.0</td>\n",
       "      <td>NaN</td>\n",
       "    </tr>\n",
       "    <tr>\n",
       "      <th>...</th>\n",
       "      <td>...</td>\n",
       "      <td>...</td>\n",
       "      <td>...</td>\n",
       "      <td>...</td>\n",
       "      <td>...</td>\n",
       "      <td>...</td>\n",
       "      <td>...</td>\n",
       "    </tr>\n",
       "    <tr>\n",
       "      <th>56790</th>\n",
       "      <td>GA</td>\n",
       "      <td>Georgia</td>\n",
       "      <td>NaN</td>\n",
       "      <td>Fulton</td>\n",
       "      <td>Atlanta</td>\n",
       "      <td>30305.0</td>\n",
       "      <td>Buckhead</td>\n",
       "    </tr>\n",
       "    <tr>\n",
       "      <th>56791</th>\n",
       "      <td>GA</td>\n",
       "      <td>Georgia</td>\n",
       "      <td>NaN</td>\n",
       "      <td>Fulton</td>\n",
       "      <td>Atlanta</td>\n",
       "      <td>30354.0</td>\n",
       "      <td>Blair Village</td>\n",
       "    </tr>\n",
       "    <tr>\n",
       "      <th>56792</th>\n",
       "      <td>FL</td>\n",
       "      <td>Florida</td>\n",
       "      <td>NaN</td>\n",
       "      <td>Hillsborough</td>\n",
       "      <td>Tampa</td>\n",
       "      <td>33607.0</td>\n",
       "      <td>West Tampa</td>\n",
       "    </tr>\n",
       "    <tr>\n",
       "      <th>56793</th>\n",
       "      <td>DC</td>\n",
       "      <td>District of Columbia</td>\n",
       "      <td>NaN</td>\n",
       "      <td>District of Columbia</td>\n",
       "      <td>Washington</td>\n",
       "      <td>20011.0</td>\n",
       "      <td>Terra Cotta</td>\n",
       "    </tr>\n",
       "    <tr>\n",
       "      <th>56794</th>\n",
       "      <td>FL</td>\n",
       "      <td>Florida</td>\n",
       "      <td>NaN</td>\n",
       "      <td>Miami-Dade</td>\n",
       "      <td>Miami</td>\n",
       "      <td>33137.0</td>\n",
       "      <td>Lemon City</td>\n",
       "    </tr>\n",
       "  </tbody>\n",
       "</table>\n",
       "<p>56789 rows × 7 columns</p>\n",
       "</div>"
      ],
      "text/plain": [
       "      stateID                 state                        metro  \\\n",
       "0          NY              New York  New York-Newark-Jersey City   \n",
       "1          NY              New York  New York-Newark-Jersey City   \n",
       "2          NY              New York  New York-Newark-Jersey City   \n",
       "3          NY              New York  New York-Newark-Jersey City   \n",
       "4          NY              New York  New York-Newark-Jersey City   \n",
       "...       ...                   ...                          ...   \n",
       "56790      GA               Georgia                          NaN   \n",
       "56791      GA               Georgia                          NaN   \n",
       "56792      FL               Florida                          NaN   \n",
       "56793      DC  District of Columbia                          NaN   \n",
       "56794      FL               Florida                          NaN   \n",
       "\n",
       "                     county        city  zipcode   neighborhood  \n",
       "0                    Queens    New York  11229.0            NaN  \n",
       "1                    Queens    New York  11228.0            NaN  \n",
       "2                    Queens    New York  11226.0            NaN  \n",
       "3                    Queens    New York  11225.0            NaN  \n",
       "4                    Queens    New York  11224.0            NaN  \n",
       "...                     ...         ...      ...            ...  \n",
       "56790                Fulton     Atlanta  30305.0       Buckhead  \n",
       "56791                Fulton     Atlanta  30354.0  Blair Village  \n",
       "56792          Hillsborough       Tampa  33607.0     West Tampa  \n",
       "56793  District of Columbia  Washington  20011.0    Terra Cotta  \n",
       "56794            Miami-Dade       Miami  33137.0     Lemon City  \n",
       "\n",
       "[56789 rows x 7 columns]"
      ]
     },
     "execution_count": 83,
     "metadata": {},
     "output_type": "execute_result"
    }
   ],
   "source": [
    "# Reorder the columns\n",
    "master = master[['stateID', 'state', 'metro', 'county', 'city', 'zipcode', 'neighborhood']]\n",
    "master"
   ]
  },
  {
   "cell_type": "markdown",
   "id": "76e122b1-517b-46a3-b174-f89b306022e4",
   "metadata": {},
   "source": [
    "# Save File"
   ]
  },
  {
   "cell_type": "code",
   "execution_count": 84,
   "id": "082bf82d-bdd5-470c-941d-c56f03700c6f",
   "metadata": {},
   "outputs": [],
   "source": [
    "# Define the file path\n",
    "csv_file_path = os.path.join(master_dir, master_file)\n",
    "master.to_csv(csv_file_path, index=False)"
   ]
  }
 ],
 "metadata": {
  "kernelspec": {
   "display_name": "Python 3 (ipykernel)",
   "language": "python",
   "name": "python3"
  },
  "language_info": {
   "codemirror_mode": {
    "name": "ipython",
    "version": 3
   },
   "file_extension": ".py",
   "mimetype": "text/x-python",
   "name": "python",
   "nbconvert_exporter": "python",
   "pygments_lexer": "ipython3",
   "version": "3.11.7"
  }
 },
 "nbformat": 4,
 "nbformat_minor": 5
}
