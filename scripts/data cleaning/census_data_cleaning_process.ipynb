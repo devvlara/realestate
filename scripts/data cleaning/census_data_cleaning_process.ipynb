{
 "cells": [
  {
   "cell_type": "markdown",
   "id": "81ebf8df-64f7-4e3c-bcd2-3b873da459ce",
   "metadata": {},
   "source": [
    "This File aims to clean imported data from the US Census"
   ]
  },
  {
   "cell_type": "code",
   "execution_count": 43,
   "id": "c391bd7f-73bd-4c90-a814-9a0a07fcf931",
   "metadata": {},
   "outputs": [],
   "source": [
    "import os\n",
    "import yaml\n",
    "import pandas as pd\n",
    "\n",
    "# Load the configuration file\n",
    "with open(r'C:/Users/Dev/Documents/Real Estate Data/config/config.yaml', 'r') as file:\n",
    "    config = yaml.safe_load(file)"
   ]
  },
  {
   "cell_type": "markdown",
   "id": "1af0e5dc-2e22-4462-b3d9-fb44812f33bd",
   "metadata": {},
   "source": [
    "# Import Directories"
   ]
  },
  {
   "cell_type": "code",
   "execution_count": 44,
   "id": "febf7b4f-1633-4483-a071-6155cf8e1272",
   "metadata": {},
   "outputs": [],
   "source": [
    "raw_dir = config['data']['census_data']['raw']['B19013_Median_Household_Income_by_Zipcode']\n",
    "\n",
    "processed_dir = config['data']['census_data']['processed']['B19013_Median_Household_Income_by_Zipcode']"
   ]
  },
  {
   "cell_type": "markdown",
   "id": "827c3f8c-14e4-4f87-9d81-fe0a8296a115",
   "metadata": {},
   "source": [
    "# Files"
   ]
  },
  {
   "cell_type": "code",
   "execution_count": 45,
   "id": "95fefffe-d704-41c6-96cc-73163c15aef2",
   "metadata": {},
   "outputs": [],
   "source": [
    "B19013_data = 'ACSDT5Y2022.B19013-Data.csv'"
   ]
  },
  {
   "cell_type": "markdown",
   "id": "40ac1f98-5513-4609-98ee-a4e2d373a861",
   "metadata": {},
   "source": [
    "# Import Files"
   ]
  },
  {
   "cell_type": "markdown",
   "id": "cf8df6a6-80dc-4d40-b1ec-b3905378745d",
   "metadata": {},
   "source": [
    "### Import B19013 Data"
   ]
  },
  {
   "cell_type": "code",
   "execution_count": 46,
   "id": "3d903606-19dc-4423-bc01-5b43d5440cdf",
   "metadata": {},
   "outputs": [],
   "source": [
    "file_path = os.path.join(raw_dir, B19013_data)\n",
    "B19013_data = pd.read_csv(file_path, low_memory=False)"
   ]
  },
  {
   "cell_type": "code",
   "execution_count": 47,
   "id": "ab41e8d9-321d-4816-ba17-c7b038b05676",
   "metadata": {},
   "outputs": [
    {
     "data": {
      "text/html": [
       "<div>\n",
       "<style scoped>\n",
       "    .dataframe tbody tr th:only-of-type {\n",
       "        vertical-align: middle;\n",
       "    }\n",
       "\n",
       "    .dataframe tbody tr th {\n",
       "        vertical-align: top;\n",
       "    }\n",
       "\n",
       "    .dataframe thead th {\n",
       "        text-align: right;\n",
       "    }\n",
       "</style>\n",
       "<table border=\"1\" class=\"dataframe\">\n",
       "  <thead>\n",
       "    <tr style=\"text-align: right;\">\n",
       "      <th></th>\n",
       "      <th>GEO_ID</th>\n",
       "      <th>NAME</th>\n",
       "      <th>B19013_001E</th>\n",
       "      <th>B19013_001M</th>\n",
       "      <th>Unnamed: 4</th>\n",
       "    </tr>\n",
       "  </thead>\n",
       "  <tbody>\n",
       "    <tr>\n",
       "      <th>0</th>\n",
       "      <td>860Z200US73949</td>\n",
       "      <td>ZCTA5 73949</td>\n",
       "      <td>58309</td>\n",
       "      <td>17848</td>\n",
       "      <td>NaN</td>\n",
       "    </tr>\n",
       "    <tr>\n",
       "      <th>1</th>\n",
       "      <td>860Z200US73960</td>\n",
       "      <td>ZCTA5 73960</td>\n",
       "      <td>-</td>\n",
       "      <td>**</td>\n",
       "      <td>NaN</td>\n",
       "    </tr>\n",
       "    <tr>\n",
       "      <th>2</th>\n",
       "      <td>860Z200US75001</td>\n",
       "      <td>ZCTA5 75001</td>\n",
       "      <td>77598</td>\n",
       "      <td>10453</td>\n",
       "      <td>NaN</td>\n",
       "    </tr>\n",
       "    <tr>\n",
       "      <th>3</th>\n",
       "      <td>860Z200US75002</td>\n",
       "      <td>ZCTA5 75002</td>\n",
       "      <td>119301</td>\n",
       "      <td>7551</td>\n",
       "      <td>NaN</td>\n",
       "    </tr>\n",
       "    <tr>\n",
       "      <th>4</th>\n",
       "      <td>860Z200US75006</td>\n",
       "      <td>ZCTA5 75006</td>\n",
       "      <td>79672</td>\n",
       "      <td>5896</td>\n",
       "      <td>NaN</td>\n",
       "    </tr>\n",
       "    <tr>\n",
       "      <th>...</th>\n",
       "      <td>...</td>\n",
       "      <td>...</td>\n",
       "      <td>...</td>\n",
       "      <td>...</td>\n",
       "      <td>...</td>\n",
       "    </tr>\n",
       "    <tr>\n",
       "      <th>1987</th>\n",
       "      <td>860Z200US79934</td>\n",
       "      <td>ZCTA5 79934</td>\n",
       "      <td>77010</td>\n",
       "      <td>6254</td>\n",
       "      <td>NaN</td>\n",
       "    </tr>\n",
       "    <tr>\n",
       "      <th>1988</th>\n",
       "      <td>860Z200US79935</td>\n",
       "      <td>ZCTA5 79935</td>\n",
       "      <td>62018</td>\n",
       "      <td>5507</td>\n",
       "      <td>NaN</td>\n",
       "    </tr>\n",
       "    <tr>\n",
       "      <th>1989</th>\n",
       "      <td>860Z200US79936</td>\n",
       "      <td>ZCTA5 79936</td>\n",
       "      <td>60981</td>\n",
       "      <td>2378</td>\n",
       "      <td>NaN</td>\n",
       "    </tr>\n",
       "    <tr>\n",
       "      <th>1990</th>\n",
       "      <td>860Z200US79938</td>\n",
       "      <td>ZCTA5 79938</td>\n",
       "      <td>70806</td>\n",
       "      <td>4033</td>\n",
       "      <td>NaN</td>\n",
       "    </tr>\n",
       "    <tr>\n",
       "      <th>1991</th>\n",
       "      <td>860Z200US88430</td>\n",
       "      <td>ZCTA5 88430</td>\n",
       "      <td>38092</td>\n",
       "      <td>11177</td>\n",
       "      <td>NaN</td>\n",
       "    </tr>\n",
       "  </tbody>\n",
       "</table>\n",
       "<p>1992 rows × 5 columns</p>\n",
       "</div>"
      ],
      "text/plain": [
       "              GEO_ID         NAME B19013_001E B19013_001M  Unnamed: 4\n",
       "0     860Z200US73949  ZCTA5 73949       58309       17848         NaN\n",
       "1     860Z200US73960  ZCTA5 73960           -          **         NaN\n",
       "2     860Z200US75001  ZCTA5 75001       77598       10453         NaN\n",
       "3     860Z200US75002  ZCTA5 75002      119301        7551         NaN\n",
       "4     860Z200US75006  ZCTA5 75006       79672        5896         NaN\n",
       "...              ...          ...         ...         ...         ...\n",
       "1987  860Z200US79934  ZCTA5 79934       77010        6254         NaN\n",
       "1988  860Z200US79935  ZCTA5 79935       62018        5507         NaN\n",
       "1989  860Z200US79936  ZCTA5 79936       60981        2378         NaN\n",
       "1990  860Z200US79938  ZCTA5 79938       70806        4033         NaN\n",
       "1991  860Z200US88430  ZCTA5 88430       38092       11177         NaN\n",
       "\n",
       "[1992 rows x 5 columns]"
      ]
     },
     "execution_count": 47,
     "metadata": {},
     "output_type": "execute_result"
    }
   ],
   "source": [
    "B19013_data = B19013_data.drop(B19013_data.index[0]).reset_index(drop=True)\n",
    "B19013_data"
   ]
  },
  {
   "cell_type": "markdown",
   "id": "1b3629bc-124f-4fe4-8c5d-03cfeaa32902",
   "metadata": {},
   "source": [
    "### Columns to Keep"
   ]
  },
  {
   "cell_type": "code",
   "execution_count": 48,
   "id": "fd4408f0-8c0a-4295-add0-90b56bd2a89b",
   "metadata": {},
   "outputs": [
    {
     "data": {
      "text/plain": [
       "['GEO_ID', 'NAME', 'B19013_001E', 'B19013_001M', 'Unnamed: 4']"
      ]
     },
     "execution_count": 48,
     "metadata": {},
     "output_type": "execute_result"
    }
   ],
   "source": [
    "B19013_data.columns.tolist()"
   ]
  },
  {
   "cell_type": "code",
   "execution_count": 49,
   "id": "64900f29-6dd3-45a9-b2b0-9e1dd2613d89",
   "metadata": {},
   "outputs": [],
   "source": [
    "columns_to_keep = [\n",
    "\n",
    "    'NAME',\n",
    "    'B19013_001E',\n",
    "\n",
    "]\n",
    "\n",
    "B19013_data[columns_to_keep]\n",
    "B19013_data = B19013_data[columns_to_keep]"
   ]
  },
  {
   "cell_type": "code",
   "execution_count": 50,
   "id": "65e9cb21-1101-451a-b49d-e7f626396852",
   "metadata": {},
   "outputs": [],
   "source": [
    "column_rename = {\n",
    "\n",
    "    'NAME': 'zipcode',\n",
    "    'B19013_001E': 'medianIncome',\n",
    "\n",
    "    }\n",
    "\n",
    "# Rename columns\n",
    "B19013_data = B19013_data.rename(columns=column_rename)"
   ]
  },
  {
   "cell_type": "code",
   "execution_count": 51,
   "id": "08a07574-6428-4c9b-89ea-f242259eefde",
   "metadata": {},
   "outputs": [
    {
     "data": {
      "text/html": [
       "<div>\n",
       "<style scoped>\n",
       "    .dataframe tbody tr th:only-of-type {\n",
       "        vertical-align: middle;\n",
       "    }\n",
       "\n",
       "    .dataframe tbody tr th {\n",
       "        vertical-align: top;\n",
       "    }\n",
       "\n",
       "    .dataframe thead th {\n",
       "        text-align: right;\n",
       "    }\n",
       "</style>\n",
       "<table border=\"1\" class=\"dataframe\">\n",
       "  <thead>\n",
       "    <tr style=\"text-align: right;\">\n",
       "      <th></th>\n",
       "      <th>zipcode</th>\n",
       "      <th>medianIncome</th>\n",
       "    </tr>\n",
       "  </thead>\n",
       "  <tbody>\n",
       "    <tr>\n",
       "      <th>0</th>\n",
       "      <td>73949</td>\n",
       "      <td>58309</td>\n",
       "    </tr>\n",
       "    <tr>\n",
       "      <th>1</th>\n",
       "      <td>73960</td>\n",
       "      <td>-</td>\n",
       "    </tr>\n",
       "    <tr>\n",
       "      <th>2</th>\n",
       "      <td>75001</td>\n",
       "      <td>77598</td>\n",
       "    </tr>\n",
       "    <tr>\n",
       "      <th>3</th>\n",
       "      <td>75002</td>\n",
       "      <td>119301</td>\n",
       "    </tr>\n",
       "    <tr>\n",
       "      <th>4</th>\n",
       "      <td>75006</td>\n",
       "      <td>79672</td>\n",
       "    </tr>\n",
       "    <tr>\n",
       "      <th>...</th>\n",
       "      <td>...</td>\n",
       "      <td>...</td>\n",
       "    </tr>\n",
       "    <tr>\n",
       "      <th>1987</th>\n",
       "      <td>79934</td>\n",
       "      <td>77010</td>\n",
       "    </tr>\n",
       "    <tr>\n",
       "      <th>1988</th>\n",
       "      <td>79935</td>\n",
       "      <td>62018</td>\n",
       "    </tr>\n",
       "    <tr>\n",
       "      <th>1989</th>\n",
       "      <td>79936</td>\n",
       "      <td>60981</td>\n",
       "    </tr>\n",
       "    <tr>\n",
       "      <th>1990</th>\n",
       "      <td>79938</td>\n",
       "      <td>70806</td>\n",
       "    </tr>\n",
       "    <tr>\n",
       "      <th>1991</th>\n",
       "      <td>88430</td>\n",
       "      <td>38092</td>\n",
       "    </tr>\n",
       "  </tbody>\n",
       "</table>\n",
       "<p>1992 rows × 2 columns</p>\n",
       "</div>"
      ],
      "text/plain": [
       "     zipcode medianIncome\n",
       "0      73949        58309\n",
       "1      73960            -\n",
       "2      75001        77598\n",
       "3      75002       119301\n",
       "4      75006        79672\n",
       "...      ...          ...\n",
       "1987   79934        77010\n",
       "1988   79935        62018\n",
       "1989   79936        60981\n",
       "1990   79938        70806\n",
       "1991   88430        38092\n",
       "\n",
       "[1992 rows x 2 columns]"
      ]
     },
     "execution_count": 51,
     "metadata": {},
     "output_type": "execute_result"
    }
   ],
   "source": [
    "# Remove everything to the right of the space in the Zipcode column\n",
    "B19013_data['zipcode'] = B19013_data['zipcode'].str.split(' ').str[1]\n",
    "B19013_data"
   ]
  },
  {
   "cell_type": "markdown",
   "id": "537364d0-b364-42c5-b33d-5839db26e5cb",
   "metadata": {},
   "source": [
    "## Save the File"
   ]
  },
  {
   "cell_type": "code",
   "execution_count": 52,
   "id": "aa62cc1a-2c02-4364-a921-2da5501bee8b",
   "metadata": {},
   "outputs": [],
   "source": [
    "# Define the output CSV file path\n",
    "output_file_path = os.path.join(processed_dir, 'B19013_Median_Household_Income_by_Zipcode_2022.csv')\n",
    "\n",
    "# Save the merged DataFrame to CSV\n",
    "B19013_data.to_csv(output_file_path, index=False)"
   ]
  }
 ],
 "metadata": {
  "kernelspec": {
   "display_name": "Python 3 (ipykernel)",
   "language": "python",
   "name": "python3"
  },
  "language_info": {
   "codemirror_mode": {
    "name": "ipython",
    "version": 3
   },
   "file_extension": ".py",
   "mimetype": "text/x-python",
   "name": "python",
   "nbconvert_exporter": "python",
   "pygments_lexer": "ipython3",
   "version": "3.11.7"
  }
 },
 "nbformat": 4,
 "nbformat_minor": 5
}
