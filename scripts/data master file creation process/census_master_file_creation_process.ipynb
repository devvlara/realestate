{
 "cells": [
  {
   "cell_type": "markdown",
   "id": "81ebf8df-64f7-4e3c-bcd2-3b873da459ce",
   "metadata": {},
   "source": [
    "This File aims to clean imported data from the US Census"
   ]
  },
  {
   "cell_type": "code",
   "execution_count": 67,
   "id": "c391bd7f-73bd-4c90-a814-9a0a07fcf931",
   "metadata": {},
   "outputs": [],
   "source": [
    "import os\n",
    "import yaml\n",
    "import pandas as pd\n",
    "\n",
    "# Load the configuration file\n",
    "with open(r'C:/Users/Dev/Documents/Real Estate Data/config/config.yaml', 'r') as file:\n",
    "    config = yaml.safe_load(file)"
   ]
  },
  {
   "cell_type": "markdown",
   "id": "1af0e5dc-2e22-4462-b3d9-fb44812f33bd",
   "metadata": {},
   "source": [
    "# Import Directories"
   ]
  },
  {
   "cell_type": "code",
   "execution_count": 68,
   "id": "febf7b4f-1633-4483-a071-6155cf8e1272",
   "metadata": {},
   "outputs": [],
   "source": [
    "processed_dir = config['data']['census_data']['processed']['B19013_Median_Household_Income_by_Zipcode']\n",
    "master_dir = config['data']['census_data']['master']"
   ]
  },
  {
   "cell_type": "code",
   "execution_count": 69,
   "id": "0d65a9ce-ab8b-417f-a29d-431088f5212a",
   "metadata": {},
   "outputs": [
    {
     "name": "stdout",
     "output_type": "stream",
     "text": [
      "Processed Directory: C:/Users/Dev/Documents/Real Estate Data/data/processed/census/B19013_Median_Household_Income_by_Zipcode (Type: <class 'str'>)\n",
      "Master Directory: C:/Users/Dev/Documents/Real Estate Data/data/master/census/ (Type: <class 'str'>)\n"
     ]
    }
   ],
   "source": [
    "print(f\"Processed Directory: {processed_dir} (Type: {type(processed_dir)})\")\n",
    "print(f\"Master Directory: {master_dir} (Type: {type(master_dir)})\")"
   ]
  },
  {
   "cell_type": "markdown",
   "id": "827c3f8c-14e4-4f87-9d81-fe0a8296a115",
   "metadata": {},
   "source": [
    "# Files"
   ]
  },
  {
   "cell_type": "code",
   "execution_count": 70,
   "id": "95fefffe-d704-41c6-96cc-73163c15aef2",
   "metadata": {},
   "outputs": [],
   "source": [
    "B19013_data_file = \"B19013_Median_Household_Income_by_Zipcode_2022.csv\"\n",
    "output_file = 'census_master_data.csv'"
   ]
  },
  {
   "cell_type": "markdown",
   "id": "40ac1f98-5513-4609-98ee-a4e2d373a861",
   "metadata": {},
   "source": [
    "# Import Files"
   ]
  },
  {
   "cell_type": "markdown",
   "id": "cf8df6a6-80dc-4d40-b1ec-b3905378745d",
   "metadata": {},
   "source": [
    "### Import B19013 Data"
   ]
  },
  {
   "cell_type": "code",
   "execution_count": 71,
   "id": "3d903606-19dc-4423-bc01-5b43d5440cdf",
   "metadata": {},
   "outputs": [],
   "source": [
    "file_path = os.path.join(processed_dir, B19013_data_file)\n",
    "B19013_data = pd.read_csv(file_path, low_memory=False)"
   ]
  },
  {
   "cell_type": "code",
   "execution_count": 72,
   "id": "bf367f1d-f15d-4143-b3e4-8d8c1f2090f4",
   "metadata": {},
   "outputs": [
    {
     "data": {
      "text/html": [
       "<div>\n",
       "<style scoped>\n",
       "    .dataframe tbody tr th:only-of-type {\n",
       "        vertical-align: middle;\n",
       "    }\n",
       "\n",
       "    .dataframe tbody tr th {\n",
       "        vertical-align: top;\n",
       "    }\n",
       "\n",
       "    .dataframe thead th {\n",
       "        text-align: right;\n",
       "    }\n",
       "</style>\n",
       "<table border=\"1\" class=\"dataframe\">\n",
       "  <thead>\n",
       "    <tr style=\"text-align: right;\">\n",
       "      <th></th>\n",
       "      <th>zipcode</th>\n",
       "      <th>medianIncome</th>\n",
       "    </tr>\n",
       "  </thead>\n",
       "  <tbody>\n",
       "    <tr>\n",
       "      <th>0</th>\n",
       "      <td>73949</td>\n",
       "      <td>58309</td>\n",
       "    </tr>\n",
       "    <tr>\n",
       "      <th>1</th>\n",
       "      <td>73960</td>\n",
       "      <td>-</td>\n",
       "    </tr>\n",
       "    <tr>\n",
       "      <th>2</th>\n",
       "      <td>75001</td>\n",
       "      <td>77598</td>\n",
       "    </tr>\n",
       "    <tr>\n",
       "      <th>3</th>\n",
       "      <td>75002</td>\n",
       "      <td>119301</td>\n",
       "    </tr>\n",
       "    <tr>\n",
       "      <th>4</th>\n",
       "      <td>75006</td>\n",
       "      <td>79672</td>\n",
       "    </tr>\n",
       "    <tr>\n",
       "      <th>...</th>\n",
       "      <td>...</td>\n",
       "      <td>...</td>\n",
       "    </tr>\n",
       "    <tr>\n",
       "      <th>1987</th>\n",
       "      <td>79934</td>\n",
       "      <td>77010</td>\n",
       "    </tr>\n",
       "    <tr>\n",
       "      <th>1988</th>\n",
       "      <td>79935</td>\n",
       "      <td>62018</td>\n",
       "    </tr>\n",
       "    <tr>\n",
       "      <th>1989</th>\n",
       "      <td>79936</td>\n",
       "      <td>60981</td>\n",
       "    </tr>\n",
       "    <tr>\n",
       "      <th>1990</th>\n",
       "      <td>79938</td>\n",
       "      <td>70806</td>\n",
       "    </tr>\n",
       "    <tr>\n",
       "      <th>1991</th>\n",
       "      <td>88430</td>\n",
       "      <td>38092</td>\n",
       "    </tr>\n",
       "  </tbody>\n",
       "</table>\n",
       "<p>1992 rows × 2 columns</p>\n",
       "</div>"
      ],
      "text/plain": [
       "      zipcode medianIncome\n",
       "0       73949        58309\n",
       "1       73960            -\n",
       "2       75001        77598\n",
       "3       75002       119301\n",
       "4       75006        79672\n",
       "...       ...          ...\n",
       "1987    79934        77010\n",
       "1988    79935        62018\n",
       "1989    79936        60981\n",
       "1990    79938        70806\n",
       "1991    88430        38092\n",
       "\n",
       "[1992 rows x 2 columns]"
      ]
     },
     "execution_count": 72,
     "metadata": {},
     "output_type": "execute_result"
    }
   ],
   "source": [
    "master = pd.DataFrame()\n",
    "\n",
    "master = pd.concat([master, B19013_data], ignore_index=True)\n",
    "master"
   ]
  },
  {
   "cell_type": "markdown",
   "id": "537364d0-b364-42c5-b33d-5839db26e5cb",
   "metadata": {},
   "source": [
    "## Save the File"
   ]
  },
  {
   "cell_type": "code",
   "execution_count": 73,
   "id": "aa62cc1a-2c02-4364-a921-2da5501bee8b",
   "metadata": {},
   "outputs": [],
   "source": [
    "# Define the output CSV file path\n",
    "output_file_path = os.path.join(master_dir, output_file)\n",
    "\n",
    "# Save the merged DataFrame to CSV\n",
    "master.to_csv(output_file_path, index=False)"
   ]
  },
  {
   "cell_type": "code",
   "execution_count": null,
   "id": "575ee1f2-43ae-48e3-aa99-96aa2aa7e90b",
   "metadata": {},
   "outputs": [],
   "source": []
  }
 ],
 "metadata": {
  "kernelspec": {
   "display_name": "Python 3 (ipykernel)",
   "language": "python",
   "name": "python3"
  },
  "language_info": {
   "codemirror_mode": {
    "name": "ipython",
    "version": 3
   },
   "file_extension": ".py",
   "mimetype": "text/x-python",
   "name": "python",
   "nbconvert_exporter": "python",
   "pygments_lexer": "ipython3",
   "version": "3.11.7"
  }
 },
 "nbformat": 4,
 "nbformat_minor": 5
}
