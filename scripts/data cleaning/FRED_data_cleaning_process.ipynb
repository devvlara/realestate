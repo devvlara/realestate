{
 "cells": [
  {
   "cell_type": "markdown",
   "id": "81ebf8df-64f7-4e3c-bcd2-3b873da459ce",
   "metadata": {},
   "source": [
    "This File aims to clean imported data from FRED"
   ]
  },
  {
   "cell_type": "code",
   "execution_count": 32,
   "id": "c391bd7f-73bd-4c90-a814-9a0a07fcf931",
   "metadata": {},
   "outputs": [],
   "source": [
    "import os\n",
    "import yaml\n",
    "import pandas as pd\n",
    "\n",
    "# Load the configuration file\n",
    "with open(r'C:/Users/Dev/Documents/Real Estate Data/config/config.yaml', 'r') as file:\n",
    "    config = yaml.safe_load(file)"
   ]
  },
  {
   "cell_type": "markdown",
   "id": "1af0e5dc-2e22-4462-b3d9-fb44812f33bd",
   "metadata": {},
   "source": [
    "# Import Directories"
   ]
  },
  {
   "cell_type": "code",
   "execution_count": 33,
   "id": "febf7b4f-1633-4483-a071-6155cf8e1272",
   "metadata": {},
   "outputs": [],
   "source": [
    "mortgage_raw_dir = config['data']['fred_data']['raw']['30-Year_Fixed_Rate_Mortgage_Average_US']\n",
    "\n",
    "\n",
    "mortgage_processed_dir = config['data']['fred_data']['processed']['30-Year_Fixed_Rate_Mortgage_Average_US']"
   ]
  },
  {
   "cell_type": "markdown",
   "id": "827c3f8c-14e4-4f87-9d81-fe0a8296a115",
   "metadata": {},
   "source": [
    "# Files"
   ]
  },
  {
   "cell_type": "code",
   "execution_count": 34,
   "id": "95fefffe-d704-41c6-96cc-73163c15aef2",
   "metadata": {},
   "outputs": [],
   "source": [
    "raw_mortgage_data = \"MORTGAGE30US.csv\"\n",
    "processed_mortgage_data = \"30-Year_Fixed_Rate_Mortgage_Average_US.csv\""
   ]
  },
  {
   "cell_type": "markdown",
   "id": "40ac1f98-5513-4609-98ee-a4e2d373a861",
   "metadata": {},
   "source": [
    "# Import Files"
   ]
  },
  {
   "cell_type": "markdown",
   "id": "cf8df6a6-80dc-4d40-b1ec-b3905378745d",
   "metadata": {},
   "source": [
    "### Import 30 Year Mortgage Data"
   ]
  },
  {
   "cell_type": "code",
   "execution_count": 35,
   "id": "3d903606-19dc-4423-bc01-5b43d5440cdf",
   "metadata": {},
   "outputs": [
    {
     "data": {
      "text/plain": [
       "Index(['DATE', 'MORTGAGE30US'], dtype='object')"
      ]
     },
     "execution_count": 35,
     "metadata": {},
     "output_type": "execute_result"
    }
   ],
   "source": [
    "file_path = os.path.join(mortgage_raw_dir, raw_mortgage_data)\n",
    "mortgage_data = pd.read_csv(file_path, low_memory=False)\n",
    "mortgage_data.columns"
   ]
  },
  {
   "cell_type": "markdown",
   "id": "1b3629bc-124f-4fe4-8c5d-03cfeaa32902",
   "metadata": {},
   "source": [
    "### Rename Columns"
   ]
  },
  {
   "cell_type": "code",
   "execution_count": 36,
   "id": "bf9258f0-fa8a-4efd-b974-080581da28db",
   "metadata": {},
   "outputs": [
    {
     "data": {
      "text/html": [
       "<div>\n",
       "<style scoped>\n",
       "    .dataframe tbody tr th:only-of-type {\n",
       "        vertical-align: middle;\n",
       "    }\n",
       "\n",
       "    .dataframe tbody tr th {\n",
       "        vertical-align: top;\n",
       "    }\n",
       "\n",
       "    .dataframe thead th {\n",
       "        text-align: right;\n",
       "    }\n",
       "</style>\n",
       "<table border=\"1\" class=\"dataframe\">\n",
       "  <thead>\n",
       "    <tr style=\"text-align: right;\">\n",
       "      <th></th>\n",
       "      <th>date</th>\n",
       "      <th>interestRate</th>\n",
       "    </tr>\n",
       "  </thead>\n",
       "  <tbody>\n",
       "    <tr>\n",
       "      <th>0</th>\n",
       "      <td>2000-01-07</td>\n",
       "      <td>8.15</td>\n",
       "    </tr>\n",
       "    <tr>\n",
       "      <th>1</th>\n",
       "      <td>2000-01-14</td>\n",
       "      <td>8.18</td>\n",
       "    </tr>\n",
       "    <tr>\n",
       "      <th>2</th>\n",
       "      <td>2000-01-21</td>\n",
       "      <td>8.26</td>\n",
       "    </tr>\n",
       "    <tr>\n",
       "      <th>3</th>\n",
       "      <td>2000-01-28</td>\n",
       "      <td>8.25</td>\n",
       "    </tr>\n",
       "    <tr>\n",
       "      <th>4</th>\n",
       "      <td>2000-02-04</td>\n",
       "      <td>8.25</td>\n",
       "    </tr>\n",
       "    <tr>\n",
       "      <th>...</th>\n",
       "      <td>...</td>\n",
       "      <td>...</td>\n",
       "    </tr>\n",
       "    <tr>\n",
       "      <th>1286</th>\n",
       "      <td>2024-08-29</td>\n",
       "      <td>6.35</td>\n",
       "    </tr>\n",
       "    <tr>\n",
       "      <th>1287</th>\n",
       "      <td>2024-09-05</td>\n",
       "      <td>6.35</td>\n",
       "    </tr>\n",
       "    <tr>\n",
       "      <th>1288</th>\n",
       "      <td>2024-09-12</td>\n",
       "      <td>6.20</td>\n",
       "    </tr>\n",
       "    <tr>\n",
       "      <th>1289</th>\n",
       "      <td>2024-09-19</td>\n",
       "      <td>6.09</td>\n",
       "    </tr>\n",
       "    <tr>\n",
       "      <th>1290</th>\n",
       "      <td>2024-09-26</td>\n",
       "      <td>6.08</td>\n",
       "    </tr>\n",
       "  </tbody>\n",
       "</table>\n",
       "<p>1291 rows × 2 columns</p>\n",
       "</div>"
      ],
      "text/plain": [
       "            date  interestRate\n",
       "0     2000-01-07          8.15\n",
       "1     2000-01-14          8.18\n",
       "2     2000-01-21          8.26\n",
       "3     2000-01-28          8.25\n",
       "4     2000-02-04          8.25\n",
       "...          ...           ...\n",
       "1286  2024-08-29          6.35\n",
       "1287  2024-09-05          6.35\n",
       "1288  2024-09-12          6.20\n",
       "1289  2024-09-19          6.09\n",
       "1290  2024-09-26          6.08\n",
       "\n",
       "[1291 rows x 2 columns]"
      ]
     },
     "execution_count": 36,
     "metadata": {},
     "output_type": "execute_result"
    }
   ],
   "source": [
    "column_rename = {\n",
    "\n",
    "    'DATE': 'date', \n",
    "    'MORTGAGE30US': 'interestRate',\n",
    "\n",
    "}\n",
    "    \n",
    "mortgage_data = mortgage_data.rename(columns=column_rename)\n",
    "mortgage_data"
   ]
  },
  {
   "cell_type": "markdown",
   "id": "537364d0-b364-42c5-b33d-5839db26e5cb",
   "metadata": {},
   "source": [
    "## Save the File"
   ]
  },
  {
   "cell_type": "code",
   "execution_count": 37,
   "id": "aa62cc1a-2c02-4364-a921-2da5501bee8b",
   "metadata": {},
   "outputs": [],
   "source": [
    "# Define the output CSV file path\n",
    "output_file_path = os.path.join(mortgage_processed_dir, processed_mortgage_data)\n",
    "\n",
    "# Save the merged DataFrame to CSV\n",
    "mortgage_data.to_csv(output_file_path, index=False)"
   ]
  }
 ],
 "metadata": {
  "kernelspec": {
   "display_name": "Python 3 (ipykernel)",
   "language": "python",
   "name": "python3"
  },
  "language_info": {
   "codemirror_mode": {
    "name": "ipython",
    "version": 3
   },
   "file_extension": ".py",
   "mimetype": "text/x-python",
   "name": "python",
   "nbconvert_exporter": "python",
   "pygments_lexer": "ipython3",
   "version": "3.11.7"
  }
 },
 "nbformat": 4,
 "nbformat_minor": 5
}
