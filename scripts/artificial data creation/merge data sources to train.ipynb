{
 "cells": [
  {
   "cell_type": "markdown",
   "id": "40c9b63f-cd1c-496e-a298-93dca947d72b",
   "metadata": {},
   "source": [
    "Merge Pulled Zillow Listing Data to serve as a sample set for the the data creation project"
   ]
  },
  {
   "cell_type": "markdown",
   "id": "3204e67d-963b-451c-a4ec-863b382ff85a",
   "metadata": {},
   "source": [
    "# Date of Interest"
   ]
  },
  {
   "cell_type": "code",
   "execution_count": 123,
   "id": "271fbe4f-bdb0-43db-bee7-09663dc837f8",
   "metadata": {},
   "outputs": [],
   "source": [
    "import os\n",
    "import yaml\n",
    "import datetime\n",
    "import pandas as pd\n",
    "import numpy as np\n",
    "\n",
    "# Load the configuration file\n",
    "with open(r'C:/Users/Dev/Documents/Real Estate Data/config/config.yaml', 'r') as file:\n",
    "    config = yaml.safe_load(file)"
   ]
  },
  {
   "cell_type": "markdown",
   "id": "89acd7b1-89b2-480f-a0ab-65b4512d2e2a",
   "metadata": {},
   "source": [
    "# Directories"
   ]
  },
  {
   "cell_type": "code",
   "execution_count": 124,
   "id": "6de972be-63db-46fb-a3b7-7bf8e5ddf565",
   "metadata": {},
   "outputs": [],
   "source": [
    "# Imported Data Directory\n",
    "imp_dir = config['data']['zillow_data']['processed']['listings']['zillow_search_scraper']\n",
    "\n",
    "# Cleaned Data Directory\n",
    "processed_dir = 'C:/Users/Dev/Documents/Real Estate Data/data/sample/actual listings'"
   ]
  },
  {
   "cell_type": "markdown",
   "id": "72e5b791-d5fc-43da-a4ae-59bfc8c50c15",
   "metadata": {},
   "source": [
    "# Files"
   ]
  },
  {
   "cell_type": "code",
   "execution_count": 125,
   "id": "d947ed5d-442e-4d10-8363-c5d789802480",
   "metadata": {},
   "outputs": [],
   "source": [
    "# Imported Data \n",
    "firstpull = '2024-07-09_zillow_house_listings.csv'\n",
    "secondpull = '2024-10-09_zillow_house_listings.csv'\n",
    "\n",
    "# Cleaned Data\n",
    "actuals = 'all_real_listings.csv'"
   ]
  },
  {
   "cell_type": "markdown",
   "id": "52fc6c60-d4b1-4202-94a2-88444138157a",
   "metadata": {},
   "source": [
    "# Import Files"
   ]
  },
  {
   "cell_type": "code",
   "execution_count": 126,
   "id": "65fdddb1-ea39-410c-8cf3-45d12f4ad98e",
   "metadata": {},
   "outputs": [],
   "source": [
    "file_path = os.path.join(imp_dir, firstpull)\n",
    "df1 = pd.read_csv(file_path, low_memory=False)\n",
    "\n",
    "file_path = os.path.join(imp_dir, secondpull)\n",
    "df2 = pd.read_csv(file_path, low_memory=False)"
   ]
  },
  {
   "cell_type": "markdown",
   "id": "8f4a555a-c443-4c6b-89e7-58fe77e041bc",
   "metadata": {},
   "source": [
    "### Add Source Date to each data frame"
   ]
  },
  {
   "cell_type": "code",
   "execution_count": 127,
   "id": "5da65cec-be77-40b6-9c67-3408d1f8b12a",
   "metadata": {},
   "outputs": [],
   "source": [
    "df1['source'] = '2024-07-09'\n",
    "df2['source'] = '2024-10-09'"
   ]
  },
  {
   "cell_type": "markdown",
   "id": "36fbbe76-a0a1-42e7-8aac-5f0b165847bf",
   "metadata": {},
   "source": [
    "### Filter out df1"
   ]
  },
  {
   "cell_type": "code",
   "execution_count": 128,
   "id": "e8a4eb84-5ead-48d1-929a-31da245bd7ac",
   "metadata": {},
   "outputs": [],
   "source": [
    "# Drop out home type\n",
    "drop = ['LOT', 'MANUFACTURED']\n",
    "df1 = df1[~df1['homeType'].isin(drop)]\n",
    "\n",
    "# Filter Price Range\n",
    "df1 = df1[(df1['price'] >= 50000) & (df1['price'] <= 1500000)]"
   ]
  },
  {
   "cell_type": "markdown",
   "id": "305a7b96-2258-4edf-9cd9-fe05b7ad73f7",
   "metadata": {},
   "source": [
    "### Merge data frames"
   ]
  },
  {
   "cell_type": "code",
   "execution_count": 129,
   "id": "c5e06ae1-4bec-4c92-8ca9-2ae8feecb872",
   "metadata": {},
   "outputs": [],
   "source": [
    "df = pd.concat([df1, df2], ignore_index=True)"
   ]
  },
  {
   "cell_type": "markdown",
   "id": "78dec0e6-856e-4e92-a32e-283d1f5a8cc7",
   "metadata": {},
   "source": [
    "### Columns to Keep"
   ]
  },
  {
   "cell_type": "code",
   "execution_count": 130,
   "id": "7647dedc-a857-46e8-a752-4200d85d949c",
   "metadata": {},
   "outputs": [
    {
     "data": {
      "text/html": [
       "<div>\n",
       "<style scoped>\n",
       "    .dataframe tbody tr th:only-of-type {\n",
       "        vertical-align: middle;\n",
       "    }\n",
       "\n",
       "    .dataframe tbody tr th {\n",
       "        vertical-align: top;\n",
       "    }\n",
       "\n",
       "    .dataframe thead th {\n",
       "        text-align: right;\n",
       "    }\n",
       "</style>\n",
       "<table border=\"1\" class=\"dataframe\">\n",
       "  <thead>\n",
       "    <tr style=\"text-align: right;\">\n",
       "      <th></th>\n",
       "      <th>zipID</th>\n",
       "      <th>city</th>\n",
       "      <th>state</th>\n",
       "      <th>streetAddress</th>\n",
       "      <th>zipcode</th>\n",
       "      <th>latitude</th>\n",
       "      <th>longitude</th>\n",
       "      <th>beds</th>\n",
       "      <th>baths</th>\n",
       "      <th>sqft</th>\n",
       "      <th>price</th>\n",
       "      <th>homeType</th>\n",
       "    </tr>\n",
       "  </thead>\n",
       "  <tbody>\n",
       "    <tr>\n",
       "      <th>0</th>\n",
       "      <td>27666682</td>\n",
       "      <td>Crystal Beach</td>\n",
       "      <td>TX</td>\n",
       "      <td>2598 Breaker Dr</td>\n",
       "      <td>77650.0</td>\n",
       "      <td>29.464958</td>\n",
       "      <td>94.607540</td>\n",
       "      <td>4.0</td>\n",
       "      <td>4.0</td>\n",
       "      <td>1840.0</td>\n",
       "      <td>769000</td>\n",
       "      <td>SINGLE_FAMILY</td>\n",
       "    </tr>\n",
       "    <tr>\n",
       "      <th>1</th>\n",
       "      <td>27689601</td>\n",
       "      <td>Pt Bolivar</td>\n",
       "      <td>TX</td>\n",
       "      <td>1415 Quarles Ave</td>\n",
       "      <td>77650.0</td>\n",
       "      <td>29.383598</td>\n",
       "      <td>94.768166</td>\n",
       "      <td>3.0</td>\n",
       "      <td>2.0</td>\n",
       "      <td>1408.0</td>\n",
       "      <td>200000</td>\n",
       "      <td>SINGLE_FAMILY</td>\n",
       "    </tr>\n",
       "    <tr>\n",
       "      <th>2</th>\n",
       "      <td>89537714</td>\n",
       "      <td>Crystal Beach</td>\n",
       "      <td>TX</td>\n",
       "      <td>978 Biscayne</td>\n",
       "      <td>77650.0</td>\n",
       "      <td>29.471834</td>\n",
       "      <td>94.596535</td>\n",
       "      <td>3.0</td>\n",
       "      <td>2.0</td>\n",
       "      <td>1080.0</td>\n",
       "      <td>350000</td>\n",
       "      <td>SINGLE_FAMILY</td>\n",
       "    </tr>\n",
       "    <tr>\n",
       "      <th>3</th>\n",
       "      <td>27686372</td>\n",
       "      <td>Crystal Beach</td>\n",
       "      <td>TX</td>\n",
       "      <td>2480 Gilmore</td>\n",
       "      <td>77650.0</td>\n",
       "      <td>29.461786</td>\n",
       "      <td>94.610950</td>\n",
       "      <td>3.0</td>\n",
       "      <td>2.0</td>\n",
       "      <td>1107.0</td>\n",
       "      <td>775000</td>\n",
       "      <td>SINGLE_FAMILY</td>\n",
       "    </tr>\n",
       "    <tr>\n",
       "      <th>4</th>\n",
       "      <td>353492656</td>\n",
       "      <td>Crystal Beach</td>\n",
       "      <td>TX</td>\n",
       "      <td>1211 Canal W</td>\n",
       "      <td>77650.0</td>\n",
       "      <td>29.464540</td>\n",
       "      <td>94.640396</td>\n",
       "      <td>3.0</td>\n",
       "      <td>2.0</td>\n",
       "      <td>1440.0</td>\n",
       "      <td>390000</td>\n",
       "      <td>SINGLE_FAMILY</td>\n",
       "    </tr>\n",
       "    <tr>\n",
       "      <th>...</th>\n",
       "      <td>...</td>\n",
       "      <td>...</td>\n",
       "      <td>...</td>\n",
       "      <td>...</td>\n",
       "      <td>...</td>\n",
       "      <td>...</td>\n",
       "      <td>...</td>\n",
       "      <td>...</td>\n",
       "      <td>...</td>\n",
       "      <td>...</td>\n",
       "      <td>...</td>\n",
       "      <td>...</td>\n",
       "    </tr>\n",
       "    <tr>\n",
       "      <th>25417</th>\n",
       "      <td>2079939074</td>\n",
       "      <td>Houston</td>\n",
       "      <td>TX</td>\n",
       "      <td>5003 Higgins St #A</td>\n",
       "      <td>77033.0</td>\n",
       "      <td>29.654604</td>\n",
       "      <td>95.348470</td>\n",
       "      <td>3.0</td>\n",
       "      <td>3.0</td>\n",
       "      <td>1892.0</td>\n",
       "      <td>277000</td>\n",
       "      <td>SINGLE_FAMILY</td>\n",
       "    </tr>\n",
       "    <tr>\n",
       "      <th>25418</th>\n",
       "      <td>27982729</td>\n",
       "      <td>Houston</td>\n",
       "      <td>TX</td>\n",
       "      <td>3014 Elpyco St</td>\n",
       "      <td>77051.0</td>\n",
       "      <td>29.645168</td>\n",
       "      <td>95.379196</td>\n",
       "      <td>3.0</td>\n",
       "      <td>2.0</td>\n",
       "      <td>1111.0</td>\n",
       "      <td>162000</td>\n",
       "      <td>SINGLE_FAMILY</td>\n",
       "    </tr>\n",
       "    <tr>\n",
       "      <th>25419</th>\n",
       "      <td>2055940257</td>\n",
       "      <td>Houston</td>\n",
       "      <td>TX</td>\n",
       "      <td>5617 Madden Ln</td>\n",
       "      <td>77048.0</td>\n",
       "      <td>29.633030</td>\n",
       "      <td>95.335106</td>\n",
       "      <td>3.0</td>\n",
       "      <td>2.0</td>\n",
       "      <td>1440.0</td>\n",
       "      <td>292780</td>\n",
       "      <td>SINGLE_FAMILY</td>\n",
       "    </tr>\n",
       "    <tr>\n",
       "      <th>25420</th>\n",
       "      <td>2060332592</td>\n",
       "      <td>Houston</td>\n",
       "      <td>TX</td>\n",
       "      <td>2915 Newington Ln</td>\n",
       "      <td>77047.0</td>\n",
       "      <td>29.620047</td>\n",
       "      <td>95.376785</td>\n",
       "      <td>3.0</td>\n",
       "      <td>2.0</td>\n",
       "      <td>1672.0</td>\n",
       "      <td>345000</td>\n",
       "      <td>SINGLE_FAMILY</td>\n",
       "    </tr>\n",
       "    <tr>\n",
       "      <th>25421</th>\n",
       "      <td>28094072</td>\n",
       "      <td>Houston</td>\n",
       "      <td>TX</td>\n",
       "      <td>11011 Carlton Dr</td>\n",
       "      <td>77047.0</td>\n",
       "      <td>29.639648</td>\n",
       "      <td>95.366730</td>\n",
       "      <td>2.0</td>\n",
       "      <td>2.0</td>\n",
       "      <td>1420.0</td>\n",
       "      <td>180000</td>\n",
       "      <td>SINGLE_FAMILY</td>\n",
       "    </tr>\n",
       "  </tbody>\n",
       "</table>\n",
       "<p>25422 rows × 12 columns</p>\n",
       "</div>"
      ],
      "text/plain": [
       "            zipID           city state       streetAddress  zipcode  \\\n",
       "0        27666682  Crystal Beach    TX     2598 Breaker Dr  77650.0   \n",
       "1        27689601     Pt Bolivar    TX    1415 Quarles Ave  77650.0   \n",
       "2        89537714  Crystal Beach    TX        978 Biscayne  77650.0   \n",
       "3        27686372  Crystal Beach    TX        2480 Gilmore  77650.0   \n",
       "4       353492656  Crystal Beach    TX        1211 Canal W  77650.0   \n",
       "...           ...            ...   ...                 ...      ...   \n",
       "25417  2079939074        Houston    TX  5003 Higgins St #A  77033.0   \n",
       "25418    27982729        Houston    TX      3014 Elpyco St  77051.0   \n",
       "25419  2055940257        Houston    TX      5617 Madden Ln  77048.0   \n",
       "25420  2060332592        Houston    TX   2915 Newington Ln  77047.0   \n",
       "25421    28094072        Houston    TX    11011 Carlton Dr  77047.0   \n",
       "\n",
       "        latitude  longitude  beds  baths    sqft   price       homeType  \n",
       "0      29.464958  94.607540   4.0    4.0  1840.0  769000  SINGLE_FAMILY  \n",
       "1      29.383598  94.768166   3.0    2.0  1408.0  200000  SINGLE_FAMILY  \n",
       "2      29.471834  94.596535   3.0    2.0  1080.0  350000  SINGLE_FAMILY  \n",
       "3      29.461786  94.610950   3.0    2.0  1107.0  775000  SINGLE_FAMILY  \n",
       "4      29.464540  94.640396   3.0    2.0  1440.0  390000  SINGLE_FAMILY  \n",
       "...          ...        ...   ...    ...     ...     ...            ...  \n",
       "25417  29.654604  95.348470   3.0    3.0  1892.0  277000  SINGLE_FAMILY  \n",
       "25418  29.645168  95.379196   3.0    2.0  1111.0  162000  SINGLE_FAMILY  \n",
       "25419  29.633030  95.335106   3.0    2.0  1440.0  292780  SINGLE_FAMILY  \n",
       "25420  29.620047  95.376785   3.0    2.0  1672.0  345000  SINGLE_FAMILY  \n",
       "25421  29.639648  95.366730   2.0    2.0  1420.0  180000  SINGLE_FAMILY  \n",
       "\n",
       "[25422 rows x 12 columns]"
      ]
     },
     "execution_count": 130,
     "metadata": {},
     "output_type": "execute_result"
    }
   ],
   "source": [
    "columns_to_keep = [\n",
    "\n",
    "    'zipID',\n",
    "    'city',\n",
    "    'state',\n",
    "    'streetAddress',\n",
    "    'zipcode',\n",
    "    'latitude',\n",
    "    'longitude',\n",
    "    'beds',\n",
    "    'baths',\n",
    "    'sqft',\n",
    "    'price',\n",
    "    'homeType'\n",
    "]\n",
    "\n",
    "df[columns_to_keep]\n",
    "df = df[columns_to_keep]    \n",
    "df"
   ]
  },
  {
   "cell_type": "markdown",
   "id": "76e122b1-517b-46a3-b174-f89b306022e4",
   "metadata": {},
   "source": [
    "# Save File"
   ]
  },
  {
   "cell_type": "code",
   "execution_count": 131,
   "id": "082bf82d-bdd5-470c-941d-c56f03700c6f",
   "metadata": {},
   "outputs": [],
   "source": [
    "# Define the file path\n",
    "csv_file_path = os.path.join(processed_dir, actuals)\n",
    "df.to_csv(csv_file_path, index=False)"
   ]
  }
 ],
 "metadata": {
  "kernelspec": {
   "display_name": "Python 3 (ipykernel)",
   "language": "python",
   "name": "python3"
  },
  "language_info": {
   "codemirror_mode": {
    "name": "ipython",
    "version": 3
   },
   "file_extension": ".py",
   "mimetype": "text/x-python",
   "name": "python",
   "nbconvert_exporter": "python",
   "pygments_lexer": "ipython3",
   "version": "3.11.7"
  }
 },
 "nbformat": 4,
 "nbformat_minor": 5
}
